{
 "cells": [
  {
   "cell_type": "markdown",
   "id": "6bb38a45",
   "metadata": {},
   "source": [
    "# Thrive Data Modelling assignment notebook"
   ]
  },
  {
   "cell_type": "code",
   "execution_count": 302,
   "id": "435a40b0",
   "metadata": {},
   "outputs": [],
   "source": [
    "import pandas as pd\n",
    "import sqlite3"
   ]
  },
  {
   "cell_type": "code",
   "execution_count": 303,
   "id": "3862b93b",
   "metadata": {},
   "outputs": [],
   "source": [
    "connection = sqlite3.connect(\"thrive_test_db.db\")"
   ]
  },
  {
   "cell_type": "code",
   "execution_count": 304,
   "id": "1b5543d4",
   "metadata": {},
   "outputs": [],
   "source": [
    "# Create a cursor object\n",
    "cursor = connection.cursor()"
   ]
  },
  {
   "cell_type": "code",
   "execution_count": 305,
   "id": "23a9b147",
   "metadata": {},
   "outputs": [
    {
     "name": "stdout",
     "output_type": "stream",
     "text": [
      "Tables in the database:\n",
      "conversation_start\n",
      "conversation_parts\n",
      "users\n",
      "consolidated_messages\n"
     ]
    }
   ],
   "source": [
    "# Get all table objects\n",
    "cursor.execute(\"SELECT name FROM sqlite_master WHERE type='table';\")\n",
    "\n",
    "# Fetch all the tables\n",
    "tables = cursor.fetchall()\n",
    "print(\"Tables in the database:\")\n",
    "for table in tables:\n",
    "    print(table[0])"
   ]
  },
  {
   "cell_type": "code",
   "execution_count": 310,
   "id": "9c937eb8",
   "metadata": {},
   "outputs": [],
   "source": [
    "users_table = \"users\"\n",
    "conversations_start = \"conversation_start\"\n",
    "conversations_part = \"conversation_parts\"\n",
    "\n",
    "query = f\"SELECT * FROM {users_table};\"\n",
    "users_dict = pd.read_sql_query(query, connection)\n",
    "\n",
    "query = f\"SELECT * FROM {conversations_start};\"\n",
    "conversations_start = pd.read_sql_query(query, connection)\n",
    "\n",
    "query = f\"SELECT * FROM {conversations_part};\"\n",
    "conversations_part = pd.read_sql_query(query, connection)"
   ]
  },
  {
   "cell_type": "code",
   "execution_count": 361,
   "id": "aa1e0520",
   "metadata": {},
   "outputs": [
    {
     "data": {
      "text/html": [
       "<div>\n",
       "<style scoped>\n",
       "    .dataframe tbody tr th:only-of-type {\n",
       "        vertical-align: middle;\n",
       "    }\n",
       "\n",
       "    .dataframe tbody tr th {\n",
       "        vertical-align: top;\n",
       "    }\n",
       "\n",
       "    .dataframe thead th {\n",
       "        text-align: right;\n",
       "    }\n",
       "</style>\n",
       "<table border=\"1\" class=\"dataframe\">\n",
       "  <thead>\n",
       "    <tr style=\"text-align: right;\">\n",
       "      <th></th>\n",
       "      <th>created_at</th>\n",
       "      <th>conversation_id</th>\n",
       "      <th>part_type</th>\n",
       "      <th>id</th>\n",
       "      <th>conv_dataset_email</th>\n",
       "      <th>message</th>\n",
       "    </tr>\n",
       "  </thead>\n",
       "  <tbody>\n",
       "    <tr>\n",
       "      <th>0</th>\n",
       "      <td>1679498651</td>\n",
       "      <td>10065</td>\n",
       "      <td>comment</td>\n",
       "      <td>20482598151</td>\n",
       "      <td>robert.flores@example.com</td>\n",
       "      <td>Memory support seek ok size. Politics generati...</td>\n",
       "    </tr>\n",
       "    <tr>\n",
       "      <th>1</th>\n",
       "      <td>1679498716</td>\n",
       "      <td>10065</td>\n",
       "      <td>assignment</td>\n",
       "      <td>20482622915</td>\n",
       "      <td>anthony.callahan@example.com</td>\n",
       "      <td>Both necessary test available. Until continue ...</td>\n",
       "    </tr>\n",
       "    <tr>\n",
       "      <th>2</th>\n",
       "      <td>1679498908</td>\n",
       "      <td>10065</td>\n",
       "      <td>comment</td>\n",
       "      <td>20482707054</td>\n",
       "      <td>alexandra.richardson@example.com</td>\n",
       "      <td>Turn important similar arrive. Marriage agree ...</td>\n",
       "    </tr>\n",
       "    <tr>\n",
       "      <th>3</th>\n",
       "      <td>1679499097</td>\n",
       "      <td>10065</td>\n",
       "      <td>comment</td>\n",
       "      <td>20482788524</td>\n",
       "      <td>anthony.callahan@example.com</td>\n",
       "      <td>Measure anything production cup explain well. ...</td>\n",
       "    </tr>\n",
       "    <tr>\n",
       "      <th>4</th>\n",
       "      <td>1679499376</td>\n",
       "      <td>10065</td>\n",
       "      <td>comment</td>\n",
       "      <td>20482911573</td>\n",
       "      <td>alexandra.richardson@example.com</td>\n",
       "      <td>Rich already rise head then executive. They ha...</td>\n",
       "    </tr>\n",
       "    <tr>\n",
       "      <th>...</th>\n",
       "      <td>...</td>\n",
       "      <td>...</td>\n",
       "      <td>...</td>\n",
       "      <td>...</td>\n",
       "      <td>...</td>\n",
       "      <td>...</td>\n",
       "    </tr>\n",
       "    <tr>\n",
       "      <th>80</th>\n",
       "      <td>1726494982</td>\n",
       "      <td>102837</td>\n",
       "      <td>open</td>\n",
       "      <td>21904986991</td>\n",
       "      <td>teresa.mitchell@example.com</td>\n",
       "      <td>Have candidate campaign area skill news no beh...</td>\n",
       "    </tr>\n",
       "    <tr>\n",
       "      <th>81</th>\n",
       "      <td>1726495021</td>\n",
       "      <td>102837</td>\n",
       "      <td>comment</td>\n",
       "      <td>21904986992</td>\n",
       "      <td>anthony.callahan@example.com</td>\n",
       "      <td>Play oil focus whole place yeah. Worry list bi...</td>\n",
       "    </tr>\n",
       "    <tr>\n",
       "      <th>82</th>\n",
       "      <td>1726495022</td>\n",
       "      <td>102837</td>\n",
       "      <td>close</td>\n",
       "      <td>21904986994</td>\n",
       "      <td>anthony.callahan@example.com</td>\n",
       "      <td>Bag certain between air week subject answer pa...</td>\n",
       "    </tr>\n",
       "    <tr>\n",
       "      <th>83</th>\n",
       "      <td>1726495252</td>\n",
       "      <td>102837</td>\n",
       "      <td>open</td>\n",
       "      <td>21904986998</td>\n",
       "      <td>teresa.mitchell@example.com</td>\n",
       "      <td>When boy reason enjoy region choose career. In...</td>\n",
       "    </tr>\n",
       "    <tr>\n",
       "      <th>84</th>\n",
       "      <td>1726495262</td>\n",
       "      <td>102837</td>\n",
       "      <td>close</td>\n",
       "      <td>21904986999</td>\n",
       "      <td>anthony.callahan@example.com</td>\n",
       "      <td>Class those anyone at relationship thought. Sh...</td>\n",
       "    </tr>\n",
       "  </tbody>\n",
       "</table>\n",
       "<p>85 rows × 6 columns</p>\n",
       "</div>"
      ],
      "text/plain": [
       "    created_at  conversation_id   part_type           id  \\\n",
       "0   1679498651            10065     comment  20482598151   \n",
       "1   1679498716            10065  assignment  20482622915   \n",
       "2   1679498908            10065     comment  20482707054   \n",
       "3   1679499097            10065     comment  20482788524   \n",
       "4   1679499376            10065     comment  20482911573   \n",
       "..         ...              ...         ...          ...   \n",
       "80  1726494982           102837        open  21904986991   \n",
       "81  1726495021           102837     comment  21904986992   \n",
       "82  1726495022           102837       close  21904986994   \n",
       "83  1726495252           102837        open  21904986998   \n",
       "84  1726495262           102837       close  21904986999   \n",
       "\n",
       "                  conv_dataset_email  \\\n",
       "0          robert.flores@example.com   \n",
       "1       anthony.callahan@example.com   \n",
       "2   alexandra.richardson@example.com   \n",
       "3       anthony.callahan@example.com   \n",
       "4   alexandra.richardson@example.com   \n",
       "..                               ...   \n",
       "80       teresa.mitchell@example.com   \n",
       "81      anthony.callahan@example.com   \n",
       "82      anthony.callahan@example.com   \n",
       "83       teresa.mitchell@example.com   \n",
       "84      anthony.callahan@example.com   \n",
       "\n",
       "                                              message  \n",
       "0   Memory support seek ok size. Politics generati...  \n",
       "1   Both necessary test available. Until continue ...  \n",
       "2   Turn important similar arrive. Marriage agree ...  \n",
       "3   Measure anything production cup explain well. ...  \n",
       "4   Rich already rise head then executive. They ha...  \n",
       "..                                                ...  \n",
       "80  Have candidate campaign area skill news no beh...  \n",
       "81  Play oil focus whole place yeah. Worry list bi...  \n",
       "82  Bag certain between air week subject answer pa...  \n",
       "83  When boy reason enjoy region choose career. In...  \n",
       "84  Class those anyone at relationship thought. Sh...  \n",
       "\n",
       "[85 rows x 6 columns]"
      ]
     },
     "execution_count": 361,
     "metadata": {},
     "output_type": "execute_result"
    }
   ],
   "source": [
    "conversations_part"
   ]
  },
  {
   "cell_type": "code",
   "execution_count": 369,
   "id": "b08cc2fd",
   "metadata": {},
   "outputs": [
    {
     "data": {
      "text/html": [
       "<div>\n",
       "<style scoped>\n",
       "    .dataframe tbody tr th:only-of-type {\n",
       "        vertical-align: middle;\n",
       "    }\n",
       "\n",
       "    .dataframe tbody tr th {\n",
       "        vertical-align: top;\n",
       "    }\n",
       "\n",
       "    .dataframe thead th {\n",
       "        text-align: right;\n",
       "    }\n",
       "</style>\n",
       "<table border=\"1\" class=\"dataframe\">\n",
       "  <thead>\n",
       "    <tr style=\"text-align: right;\">\n",
       "      <th></th>\n",
       "      <th>conversation_id</th>\n",
       "      <th>customer_user_id</th>\n",
       "    </tr>\n",
       "  </thead>\n",
       "  <tbody>\n",
       "    <tr>\n",
       "      <th>0</th>\n",
       "      <td>10065</td>\n",
       "      <td>4</td>\n",
       "    </tr>\n",
       "    <tr>\n",
       "      <th>1</th>\n",
       "      <td>10106</td>\n",
       "      <td>7</td>\n",
       "    </tr>\n",
       "    <tr>\n",
       "      <th>2</th>\n",
       "      <td>10222</td>\n",
       "      <td>5</td>\n",
       "    </tr>\n",
       "    <tr>\n",
       "      <th>3</th>\n",
       "      <td>10308</td>\n",
       "      <td>12</td>\n",
       "    </tr>\n",
       "    <tr>\n",
       "      <th>4</th>\n",
       "      <td>10342</td>\n",
       "      <td>11</td>\n",
       "    </tr>\n",
       "    <tr>\n",
       "      <th>5</th>\n",
       "      <td>10350</td>\n",
       "      <td>2</td>\n",
       "    </tr>\n",
       "    <tr>\n",
       "      <th>6</th>\n",
       "      <td>10404</td>\n",
       "      <td>0</td>\n",
       "    </tr>\n",
       "    <tr>\n",
       "      <th>7</th>\n",
       "      <td>100120</td>\n",
       "      <td>1</td>\n",
       "    </tr>\n",
       "    <tr>\n",
       "      <th>8</th>\n",
       "      <td>102013</td>\n",
       "      <td>3</td>\n",
       "    </tr>\n",
       "    <tr>\n",
       "      <th>9</th>\n",
       "      <td>102837</td>\n",
       "      <td>10</td>\n",
       "    </tr>\n",
       "  </tbody>\n",
       "</table>\n",
       "</div>"
      ],
      "text/plain": [
       "   conversation_id  customer_user_id\n",
       "0            10065                 4\n",
       "1            10106                 7\n",
       "2            10222                 5\n",
       "3            10308                12\n",
       "4            10342                11\n",
       "5            10350                 2\n",
       "6            10404                 0\n",
       "7           100120                 1\n",
       "8           102013                 3\n",
       "9           102837                10"
      ]
     },
     "execution_count": 369,
     "metadata": {},
     "output_type": "execute_result"
    }
   ],
   "source": [
    "\n",
    "\n",
    "query = f\"\"\"    WITH customer_map AS (\n",
    "  SELECT\n",
    "    conv.conversation_id,\n",
    "    MAX(u.id) AS customer_user_id  -- picking one customer per thread deterministically\n",
    "  FROM (\n",
    "    SELECT cp.conversation_id, cp.conv_dataset_email AS email FROM conversation_parts cp\n",
    "    UNION\n",
    "    SELECT cs.id AS conversation_id, cs.conv_dataset_email AS email FROM conversation_start cs\n",
    "  ) AS conv\n",
    "  JOIN users u ON conv.email = u.email\n",
    "  WHERE u.is_customer = 1\n",
    "  GROUP BY conv.conversation_id\n",
    ")\n",
    "SELECT * FROM customer_map;\n",
    "  \n",
    "  \"\"\"\n",
    "\n",
    "mapping = pd.read_sql_query(query, connection)\n",
    "\n",
    "mapping"
   ]
  },
  {
   "cell_type": "code",
   "execution_count": 362,
   "id": "24db8c13",
   "metadata": {},
   "outputs": [],
   "source": [
    "query = \"\"\"\n",
    "\n",
    "WITH customer_map AS (\n",
    "  SELECT\n",
    "    conv.conversation_id,\n",
    "    MAX(u.id) AS customer_user_id  -- picking one customer per thread deterministically\n",
    "  FROM (\n",
    "    SELECT cp.conversation_id, cp.conv_dataset_email AS email FROM conversation_parts cp\n",
    "    UNION\n",
    "    SELECT cs.id AS conversation_id, cs.conv_dataset_email AS email FROM conversation_start cs\n",
    "  ) AS conv\n",
    "  JOIN users u ON conv.email = u.email\n",
    "  WHERE u.is_customer = 1\n",
    "  GROUP BY conv.conversation_id\n",
    "),\n",
    " \n",
    "final_tab as (\n",
    "SELECT \n",
    "    cm.customer_user_id as user_id,\n",
    "    cs.id AS conversation_id,\n",
    "    cs.conv_dataset_email AS email,\n",
    "    cs.message AS message,\n",
    "    'open' AS message_type,\n",
    "     0 AS part_id,\n",
    "    cs.created_at\n",
    "FROM conversation_start cs\n",
    "LEFT JOIN customer_map cm ON cs.id = cm.conversation_id\n",
    "\n",
    "UNION ALL\n",
    "\n",
    "SELECT \n",
    "    \n",
    "    cm.customer_user_id as user_id,\n",
    "    cp.conversation_id,\n",
    "    cp.conv_dataset_email AS email,\n",
    "    cp.message,\n",
    "    cp.part_type AS message_type,\n",
    "    cp.id AS part_id,\n",
    "    cp.created_at\n",
    "FROM conversation_parts cp\n",
    "LEFT JOIN customer_map cm ON cp.conversation_id = cm.conversation_id\n",
    ")\n",
    "\n",
    "select row_number() over (order by conversation_id, created_at) as id, *  from final_tab\n",
    " \n",
    "\"\"\"\n",
    "consolidated_messages_df = pd.read_sql_query(query, connection)"
   ]
  },
  {
   "cell_type": "code",
   "execution_count": 367,
   "id": "fc5cb0ce",
   "metadata": {},
   "outputs": [],
   "source": [
    "\n",
    "consolidated_messages_df.to_csv('consolidated_messages_final.csv')"
   ]
  },
  {
   "cell_type": "code",
   "execution_count": 370,
   "id": "49496a2d",
   "metadata": {},
   "outputs": [
    {
     "data": {
      "text/plain": [
       "95"
      ]
     },
     "execution_count": 370,
     "metadata": {},
     "output_type": "execute_result"
    }
   ],
   "source": [
    "consolidated_messages_df.to_sql(\"consolidated_messages\", connection, index=False, if_exists=\"replace\")\n"
   ]
  },
  {
   "cell_type": "code",
   "execution_count": 371,
   "id": "0ca8b985",
   "metadata": {},
   "outputs": [
    {
     "name": "stdout",
     "output_type": "stream",
     "text": [
      "Tables in the database:\n",
      "conversation_start\n",
      "conversation_parts\n",
      "users\n",
      "consolidated_messages\n"
     ]
    }
   ],
   "source": [
    "# Get all table objects\n",
    "cursor.execute(\"SELECT name FROM sqlite_master WHERE type='table';\")\n",
    "\n",
    "# Fetch all the tables\n",
    "tables = cursor.fetchall()\n",
    "print(\"Tables in the database:\")\n",
    "for table in tables:\n",
    "    print(table[0])"
   ]
  },
  {
   "cell_type": "markdown",
   "id": "e3546ca5",
   "metadata": {},
   "source": [
    "# New table created in the db"
   ]
  },
  {
   "cell_type": "code",
   "execution_count": 299,
   "id": "51663f13",
   "metadata": {},
   "outputs": [
    {
     "data": {
      "text/plain": [
       "id                 0\n",
       "user_id            0\n",
       "conversation_id    0\n",
       "email              0\n",
       "message            0\n",
       "message_type       0\n",
       "created_at         0\n",
       "dtype: int64"
      ]
     },
     "execution_count": 299,
     "metadata": {},
     "output_type": "execute_result"
    }
   ],
   "source": [
    "consolidated_messages_df.isnull().sum()"
   ]
  },
  {
   "cell_type": "code",
   "execution_count": 365,
   "id": "c5abd9da",
   "metadata": {},
   "outputs": [
    {
     "data": {
      "text/plain": [
       "conversation_id\n",
       "10065     0\n",
       "10106     0\n",
       "10222     0\n",
       "10308     0\n",
       "10342     0\n",
       "10350     0\n",
       "10404     0\n",
       "100120    0\n",
       "102013    0\n",
       "102837    0\n",
       "Name: part_id, dtype: int64"
      ]
     },
     "execution_count": 365,
     "metadata": {},
     "output_type": "execute_result"
    }
   ],
   "source": [
    "consolidated_messages_df.groupby(['conversation_id'])['part_id'].first()"
   ]
  },
  {
   "cell_type": "code",
   "execution_count": 324,
   "id": "41ef9f31",
   "metadata": {},
   "outputs": [
    {
     "data": {
      "text/plain": [
       "array([ 10065,  10106,  10222,  10308,  10342, 100120, 102013, 102837,\n",
       "        10350,  10404], dtype=int64)"
      ]
     },
     "execution_count": 324,
     "metadata": {},
     "output_type": "execute_result"
    }
   ],
   "source": [
    "conversations_start['id'].unique()"
   ]
  },
  {
   "cell_type": "code",
   "execution_count": 366,
   "id": "68670a89",
   "metadata": {},
   "outputs": [
    {
     "data": {
      "text/html": [
       "<div>\n",
       "<style scoped>\n",
       "    .dataframe tbody tr th:only-of-type {\n",
       "        vertical-align: middle;\n",
       "    }\n",
       "\n",
       "    .dataframe tbody tr th {\n",
       "        vertical-align: top;\n",
       "    }\n",
       "\n",
       "    .dataframe thead th {\n",
       "        text-align: right;\n",
       "    }\n",
       "</style>\n",
       "<table border=\"1\" class=\"dataframe\">\n",
       "  <thead>\n",
       "    <tr style=\"text-align: right;\">\n",
       "      <th></th>\n",
       "      <th>id</th>\n",
       "      <th>user_id</th>\n",
       "      <th>conversation_id</th>\n",
       "      <th>email</th>\n",
       "      <th>message</th>\n",
       "      <th>message_type</th>\n",
       "      <th>part_id</th>\n",
       "      <th>created_at</th>\n",
       "    </tr>\n",
       "  </thead>\n",
       "  <tbody>\n",
       "    <tr>\n",
       "      <th>0</th>\n",
       "      <td>1</td>\n",
       "      <td>4</td>\n",
       "      <td>10065</td>\n",
       "      <td>alexandra.richardson@example.com</td>\n",
       "      <td>Memory support seek ok size. Politics generati...</td>\n",
       "      <td>open</td>\n",
       "      <td>0</td>\n",
       "      <td>1679498647</td>\n",
       "    </tr>\n",
       "    <tr>\n",
       "      <th>1</th>\n",
       "      <td>2</td>\n",
       "      <td>4</td>\n",
       "      <td>10065</td>\n",
       "      <td>robert.flores@example.com</td>\n",
       "      <td>Memory support seek ok size. Politics generati...</td>\n",
       "      <td>comment</td>\n",
       "      <td>20482598151</td>\n",
       "      <td>1679498651</td>\n",
       "    </tr>\n",
       "    <tr>\n",
       "      <th>2</th>\n",
       "      <td>3</td>\n",
       "      <td>4</td>\n",
       "      <td>10065</td>\n",
       "      <td>anthony.callahan@example.com</td>\n",
       "      <td>Both necessary test available. Until continue ...</td>\n",
       "      <td>assignment</td>\n",
       "      <td>20482622915</td>\n",
       "      <td>1679498716</td>\n",
       "    </tr>\n",
       "    <tr>\n",
       "      <th>3</th>\n",
       "      <td>4</td>\n",
       "      <td>4</td>\n",
       "      <td>10065</td>\n",
       "      <td>alexandra.richardson@example.com</td>\n",
       "      <td>Turn important similar arrive. Marriage agree ...</td>\n",
       "      <td>comment</td>\n",
       "      <td>20482707054</td>\n",
       "      <td>1679498908</td>\n",
       "    </tr>\n",
       "    <tr>\n",
       "      <th>4</th>\n",
       "      <td>5</td>\n",
       "      <td>4</td>\n",
       "      <td>10065</td>\n",
       "      <td>anthony.callahan@example.com</td>\n",
       "      <td>Measure anything production cup explain well. ...</td>\n",
       "      <td>comment</td>\n",
       "      <td>20482788524</td>\n",
       "      <td>1679499097</td>\n",
       "    </tr>\n",
       "  </tbody>\n",
       "</table>\n",
       "</div>"
      ],
      "text/plain": [
       "   id  user_id  conversation_id                             email  \\\n",
       "0   1        4            10065  alexandra.richardson@example.com   \n",
       "1   2        4            10065         robert.flores@example.com   \n",
       "2   3        4            10065      anthony.callahan@example.com   \n",
       "3   4        4            10065  alexandra.richardson@example.com   \n",
       "4   5        4            10065      anthony.callahan@example.com   \n",
       "\n",
       "                                             message message_type  \\\n",
       "0  Memory support seek ok size. Politics generati...         open   \n",
       "1  Memory support seek ok size. Politics generati...      comment   \n",
       "2  Both necessary test available. Until continue ...   assignment   \n",
       "3  Turn important similar arrive. Marriage agree ...      comment   \n",
       "4  Measure anything production cup explain well. ...      comment   \n",
       "\n",
       "       part_id  created_at  \n",
       "0            0  1679498647  \n",
       "1  20482598151  1679498651  \n",
       "2  20482622915  1679498716  \n",
       "3  20482707054  1679498908  \n",
       "4  20482788524  1679499097  "
      ]
     },
     "execution_count": 366,
     "metadata": {},
     "output_type": "execute_result"
    }
   ],
   "source": [
    "consolidated_messages_df.head(5)"
   ]
  },
  {
   "cell_type": "code",
   "execution_count": null,
   "id": "276ecedc",
   "metadata": {},
   "outputs": [
    {
     "data": {
      "text/plain": [
       "user_id  conversation_id\n",
       "1        100120             19\n",
       "3        102013             13\n",
       "10       102837             13\n",
       "7        10106              12\n",
       "5        10222              10\n",
       "4        10065               9\n",
       "0        10404               5\n",
       "2        10350               5\n",
       "11       10342               5\n",
       "12       10308               4\n",
       "Name: count, dtype: int64"
      ]
     },
     "execution_count": 360,
     "metadata": {},
     "output_type": "execute_result"
    }
   ],
   "source": [
    "consolidated_messages_df[['user_id','conversation_id']].value_counts()"
   ]
  },
  {
   "cell_type": "markdown",
   "id": "d52575ef",
   "metadata": {},
   "source": [
    "## Data Model "
   ]
  },
  {
   "cell_type": "code",
   "execution_count": null,
   "id": "42063d73",
   "metadata": {
    "vscode": {
     "languageId": "sql"
    }
   },
   "outputs": [],
   "source": [
    "CREATE TABLE fact_messages_all\n",
    "(\n",
    "    id INTEGER  PRIMARY KEY,\n",
    "    user_id INTEGER ,\n",
    "    conversation_id INTEGER ,\n",
    "    part_id INTEGER,\n",
    "    FOREIGN KEY (user_id) REFERENCES users(id),\n",
    "    FOREIGN KEY (part_id) REFERENCES dim_conversation_parts(part_id)  \n",
    "    \n",
    ");\n",
    "\n",
    "CREATE TABLE users (\n",
    "    id INTEGER  PRIMARY KEY, \n",
    "    name TEXT, \n",
    "    email TEXT, \n",
    "    is_customer INTEGER   -- just 1 or 0\n",
    ");\n",
    "\n",
    "CREATE TABLE dim_conversation_parts (\n",
    "    part_id INTEGER PRIMARY KEY,        -- \n",
    "    email TEXT ,\n",
    "    message TEXT,\n",
    "    message_type TEXT,\n",
    "    created_at DATETIME\n",
    ");\n",
    "\n",
    "\n",
    "\n"
   ]
  },
  {
   "cell_type": "code",
   "execution_count": null,
   "id": "2f269eaa",
   "metadata": {
    "vscode": {
     "languageId": "sql"
    }
   },
   "outputs": [],
   "source": [
    "\n"
   ]
  }
 ],
 "metadata": {
  "kernelspec": {
   "display_name": "deep_learning",
   "language": "python",
   "name": "python3"
  },
  "language_info": {
   "codemirror_mode": {
    "name": "ipython",
    "version": 3
   },
   "file_extension": ".py",
   "mimetype": "text/x-python",
   "name": "python",
   "nbconvert_exporter": "python",
   "pygments_lexer": "ipython3",
   "version": "3.12.8"
  }
 },
 "nbformat": 4,
 "nbformat_minor": 5
}
